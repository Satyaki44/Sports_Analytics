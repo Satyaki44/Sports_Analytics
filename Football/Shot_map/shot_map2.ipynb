{
 "cells": [
  {
   "cell_type": "code",
   "execution_count": 1,
   "metadata": {},
   "outputs": [],
   "source": [
    "#Load in Statsbomb competition and match data\n",
    "#This is a library for loading json files.\n",
    "import json\n",
    "\n",
    "#Load the competition file\n",
    "#Got this by searching 'how do I open json in Python'\n",
    "with open('Statsbomb_data/competitions.json') as f:\n",
    "    competitions = json.load(f)"
   ]
  },
  {
   "cell_type": "code",
   "execution_count": 2,
   "metadata": {},
   "outputs": [],
   "source": [
    "#Mens World Cup 2019 has competition ID 43\n",
    "competition_id=43\n",
    "\n",
    "#Load the list of matches for this competition\n",
    "with open('Statsbomb_data/matches/'+str(competition_id)+'/3.json') as f:\n",
    "    matches2 = json.load(f)"
   ]
  },
  {
   "cell_type": "code",
   "execution_count": 3,
   "metadata": {},
   "outputs": [
    {
     "name": "stdout",
     "output_type": "stream",
     "text": [
      "France vs Croatia has id:8658\n"
     ]
    }
   ],
   "source": [
    "#Now lets find a match we are interested in\n",
    "home_team_required =\"France\"\n",
    "away_team_required =\"Croatia\"\n",
    "\n",
    "#Find ID for the match\n",
    "for match2 in matches2:\n",
    "    home_team_name=match2['home_team']['home_team_name']\n",
    "    away_team_name=match2['away_team']['away_team_name']\n",
    "    if (home_team_name==home_team_required) and (away_team_name==away_team_required):\n",
    "        match_id_required = match2['match_id']\n",
    "print(home_team_required + ' vs ' + away_team_required + ' has id:' + str(match_id_required))"
   ]
  },
  {
   "cell_type": "code",
   "execution_count": 4,
   "metadata": {},
   "outputs": [
    {
     "data": {
      "image/png": "[encoded data removed]",
      "text/plain": [
       "<Figure size 720x504 with 1 Axes>"
      ]
     },
     "metadata": {
      "needs_background": "light"
     },
     "output_type": "display_data"
    }
   ],
   "source": [
    "import pitch\n",
    "import matplotlib.pyplot as plt\n",
    "import numpy as np\n",
    "\n",
    "#Size of the pitch in yards (!!!)\n",
    "pitchLengthX=120\n",
    "pitchWidthY=80\n",
    "\n",
    "#ID for Portugal vs Spain Mens World Cup\n",
    "match_id_required = 8658\n",
    "home_team_required =\"France\"\n",
    "away_team_required =\"Croatia\"\n",
    "\n",
    "# Load in the data\n",
    "# I took this from https://znstrider.github.io/2018-11-11-Getting-Started-with-StatsBomb-Data/\n",
    "file_name=str(match_id_required)+'.json'\n",
    "\n",
    "#Load in all match events \n",
    " \n",
    "    \n",
    "import json\n",
    "with open('statsbomb_data/events/'+file_name) as data_file:\n",
    "    #print (mypath+'events/'+file)\n",
    "    data = json.load(data_file)\n",
    "\n",
    "    \n",
    "#get the nested structure into a dataframe \n",
    "#store the dataframe in a dictionary with the match id as key (remove '.json' from string)\n",
    "from pandas import json_normalize\n",
    "df = json_normalize(data, sep = \"_\").assign(match_id = file_name[:-5])\n",
    "\n",
    "#A dataframe of shots\n",
    "shots = df.loc[df['type_name'] == 'Shot'].set_index('id')\n",
    "    \n",
    "#Draw the pitch\n",
    "from pitch import createPitch\n",
    "(fig,ax) = createPitch(pitchLengthX,pitchWidthY,'yards','green')\n",
    "\n",
    "#Plot the shots\n",
    "for i,shot in shots.iterrows():\n",
    "    x=shot['location'][0]\n",
    "    y=shot['location'][1]\n",
    "    \n",
    "    goal=shot['shot_outcome_name']=='Goal'\n",
    "    team_name=shot['team_name']\n",
    "    \n",
    "    circleSize=2\n",
    "    circleSize=np.sqrt(shot['shot_statsbomb_xg'])*3.1\n",
    "\n",
    "    if (team_name==home_team_required):\n",
    "        if goal:\n",
    "            shotCircle=plt.Circle((x,pitchWidthY-y),circleSize,color=\"blue\")\n",
    "            plt.text((x+1),pitchWidthY-y+1,shot['player_name']) \n",
    "        else:\n",
    "            shotCircle=plt.Circle((x,pitchWidthY-y),circleSize,color=\"blue\")     \n",
    "            shotCircle.set_alpha(.2)\n",
    "    elif (team_name==away_team_required):\n",
    "        if goal:\n",
    "            shotCircle=plt.Circle((pitchLengthX-x,y),circleSize,color=\"pink\") \n",
    "            plt.text((pitchLengthX-x+1),y+1,shot['player_name']) \n",
    "        else:\n",
    "            shotCircle=plt.Circle((pitchLengthX-x,y),circleSize,color=\"pink\")      \n",
    "            shotCircle.set_alpha(.2)\n",
    "    ax.add_patch(shotCircle)\n",
    "    \n",
    "    \n",
    "plt.text(5,75,away_team_required + ' shots') \n",
    "plt.text(80,75,home_team_required + ' shots') \n",
    "     \n",
    "fig.set_size_inches(10, 7)\n",
    "plt.show()"
   ]
  }
 ],
 "metadata": {
  "kernelspec": {
   "display_name": "Python 3",
   "language": "python",
   "name": "python3"
  },
  "language_info": {
   "codemirror_mode": {
    "name": "ipython",
    "version": 3
   },
   "file_extension": ".py",
   "mimetype": "text/x-python",
   "name": "python",
   "nbconvert_exporter": "python",
   "pygments_lexer": "ipython3",
   "version": "3.8.5"
  }
 },
 "nbformat": 4,
 "nbformat_minor": 4
}
